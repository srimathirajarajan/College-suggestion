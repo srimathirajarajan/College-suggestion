{
 "cells": [
  {
   "cell_type": "code",
   "execution_count": 106,
   "metadata": {},
   "outputs": [
    {
     "data": {
      "text/html": [
       "<div>\n",
       "<style scoped>\n",
       "    .dataframe tbody tr th:only-of-type {\n",
       "        vertical-align: middle;\n",
       "    }\n",
       "\n",
       "    .dataframe tbody tr th {\n",
       "        vertical-align: top;\n",
       "    }\n",
       "\n",
       "    .dataframe thead th {\n",
       "        text-align: right;\n",
       "    }\n",
       "</style>\n",
       "<table border=\"1\" class=\"dataframe\">\n",
       "  <thead>\n",
       "    <tr style=\"text-align: right;\">\n",
       "      <th></th>\n",
       "      <th>Year</th>\n",
       "      <th>10thMarks</th>\n",
       "      <th>12thMarks</th>\n",
       "      <th>12thDivision</th>\n",
       "      <th>Coed</th>\n",
       "      <th>College</th>\n",
       "    </tr>\n",
       "  </thead>\n",
       "  <tbody>\n",
       "    <tr>\n",
       "      <th>0</th>\n",
       "      <td>2019</td>\n",
       "      <td>90</td>\n",
       "      <td>89</td>\n",
       "      <td>3</td>\n",
       "      <td>no</td>\n",
       "      <td>IIT Bombay</td>\n",
       "    </tr>\n",
       "    <tr>\n",
       "      <th>1</th>\n",
       "      <td>2015</td>\n",
       "      <td>95</td>\n",
       "      <td>92</td>\n",
       "      <td>2</td>\n",
       "      <td>yes</td>\n",
       "      <td>IIT delhi</td>\n",
       "    </tr>\n",
       "    <tr>\n",
       "      <th>2</th>\n",
       "      <td>2018</td>\n",
       "      <td>91</td>\n",
       "      <td>80</td>\n",
       "      <td>6</td>\n",
       "      <td>yes</td>\n",
       "      <td>IIT kanpur</td>\n",
       "    </tr>\n",
       "    <tr>\n",
       "      <th>3</th>\n",
       "      <td>2017</td>\n",
       "      <td>88</td>\n",
       "      <td>85</td>\n",
       "      <td>2</td>\n",
       "      <td>no</td>\n",
       "      <td>IIT kharagpur</td>\n",
       "    </tr>\n",
       "    <tr>\n",
       "      <th>4</th>\n",
       "      <td>2016</td>\n",
       "      <td>89</td>\n",
       "      <td>84</td>\n",
       "      <td>1</td>\n",
       "      <td>yes</td>\n",
       "      <td>IIT guwahati</td>\n",
       "    </tr>\n",
       "  </tbody>\n",
       "</table>\n",
       "</div>"
      ],
      "text/plain": [
       "   Year  10thMarks  12thMarks  12thDivision Coed        College\n",
       "0  2019         90         89             3   no     IIT Bombay\n",
       "1  2015         95         92             2  yes      IIT delhi\n",
       "2  2018         91         80             6  yes     IIT kanpur\n",
       "3  2017         88         85             2   no  IIT kharagpur\n",
       "4  2016         89         84             1  yes   IIT guwahati"
      ]
     },
     "execution_count": 106,
     "metadata": {},
     "output_type": "execute_result"
    }
   ],
   "source": [
    "df=pd.read_csv(\"admi.csv\")\n",
    "df.head()"
   ]
  },
  {
   "cell_type": "code",
   "execution_count": 107,
   "metadata": {},
   "outputs": [],
   "source": [
    "from sklearn import preprocessing\n",
    "le = preprocessing.LabelEncoder()\n",
    "df['Coed'] = le.fit_transform(df['Coed'])"
   ]
  },
  {
   "cell_type": "code",
   "execution_count": 108,
   "metadata": {},
   "outputs": [],
   "source": [
    "X = df.drop(columns=[\"Year\",\"College\"])\n",
    "y=df['College']"
   ]
  },
  {
   "cell_type": "code",
   "execution_count": 109,
   "metadata": {},
   "outputs": [],
   "source": [
    "from sklearn.preprocessing import LabelEncoder\n",
    "\n",
    "# Initialize the LabelEncoder\n",
    "label_encoder = LabelEncoder()\n",
    "\n",
    "# Fit and transform the target variable\n",
    "y_encoded = label_encoder.fit_transform(y)\n",
    "\n",
    "# Now, y_encoded should contain the sequential integer labels starting from 0\n"
   ]
  },
  {
   "cell_type": "code",
   "execution_count": 110,
   "metadata": {},
   "outputs": [
    {
     "data": {
      "text/plain": [
       "RandomForestClassifier(n_estimators=10)"
      ]
     },
     "execution_count": 110,
     "metadata": {},
     "output_type": "execute_result"
    }
   ],
   "source": [
    "X_train, X_test, y_train, y_test = train_test_split(X, y, test_size=0.05, random_state=5)\n",
    "from sklearn.ensemble import RandomForestClassifier  \n",
    "classifier= RandomForestClassifier(n_estimators= 10, criterion=\"gini\")  \n",
    "classifier.fit(X_train, y_train)  "
   ]
  },
  {
   "cell_type": "code",
   "execution_count": 111,
   "metadata": {},
   "outputs": [
    {
     "data": {
      "text/plain": [
       "array(['IIT kanpur', 'MNIT jaipur', 'IIIT hydrabad', 'IIT Bombay',\n",
       "       'VIT vellore', 'IIT delhi', 'University college of ENGG',\n",
       "       'IIT kharagpur', 'BIT Mesra', 'IIEST shibpur', 'IIT hydrabad',\n",
       "       'IIT jammu', 'IIT palakkad', 'IIT guwahati', 'Manipal IT',\n",
       "       'SSN college of ENGG', 'IIT jodhpur', 'Ahemedabad IT',\n",
       "       'KLEF hydrabad', 'IIT jammu', 'IIT hydrabad',\n",
       "       'SSN college of ENGG', 'IIT indore', 'SSN college of ENGG',\n",
       "       'IIT mandi', 'SSN college of ENGG', 'University college of ENGG',\n",
       "       'SRMIST chennai', 'IIT jammu', 'IIT tirupati', 'Ahemedabad IT',\n",
       "       'IIT jodhpur', 'DTU delhi', 'IIEST shibpur', 'HBUT kanpur',\n",
       "       'IIT jodhpur', 'Manipal IT', 'HBUT kanpur', 'IIT kanpur',\n",
       "       'IIT bhilai', 'Manipal IT', 'HBUT kanpur', 'IIEST shibpur',\n",
       "       'IIT palakkad', 'MNNIT allahabad', 'MNNIT allahabad',\n",
       "       'BMS college of ENGG', 'BMS college of ENGG', 'MSIT',\n",
       "       'KLEF hydrabad', 'IIT Bombay'], dtype=object)"
      ]
     },
     "execution_count": 111,
     "metadata": {},
     "output_type": "execute_result"
    }
   ],
   "source": [
    "y_pred = classifier.predict(X_test) \n",
    "y_pred"
   ]
  },
  {
   "cell_type": "code",
   "execution_count": 112,
   "metadata": {},
   "outputs": [
    {
     "data": {
      "text/plain": [
       "array(['IIT kanpur', 'MNIT jaipur', 'IIIT hydrabad', 'IIT Bombay',\n",
       "       'VIT vellore', 'IIT delhi', 'University college of ENGG',\n",
       "       'IIT kharagpur', 'BIT Mesra', 'IIEST shibpur', 'IIT hydrabad',\n",
       "       'IIT jammu', 'IIT palakkad', 'IIT guwahati', 'Manipal IT',\n",
       "       'SSN college of ENGG', 'IIT jodhpur', 'Ahemedabad IT',\n",
       "       'KLEF hydrabad', 'IIT jammu', 'IIT hydrabad',\n",
       "       'SSN college of ENGG', 'IIT indore', 'SSN college of ENGG',\n",
       "       'IIT mandi', 'SSN college of ENGG', 'University college of ENGG',\n",
       "       'SRMIST chennai', 'IIT jammu', 'IIT tirupati', 'Ahemedabad IT',\n",
       "       'IIT jodhpur', 'DTU delhi', 'IIEST shibpur', 'HBUT kanpur',\n",
       "       'IIT jodhpur', 'Manipal IT', 'HBUT kanpur', 'IIT kanpur',\n",
       "       'IIT bhilai', 'Manipal IT', 'HBUT kanpur', 'IIEST shibpur',\n",
       "       'IIT palakkad', 'MNNIT allahabad', 'MNNIT allahabad',\n",
       "       'BMS college of ENGG', 'BMS college of ENGG', 'MSIT',\n",
       "       'KLEF hydrabad', 'IIT Bombay'], dtype=object)"
      ]
     },
     "execution_count": 112,
     "metadata": {},
     "output_type": "execute_result"
    }
   ],
   "source": [
    "predictions = classifier.predict(X_test)\n",
    "predictions"
   ]
  },
  {
   "cell_type": "code",
   "execution_count": 113,
   "metadata": {},
   "outputs": [
    {
     "name": "stdout",
     "output_type": "stream",
     "text": [
      "0.9215686274509803\n"
     ]
    }
   ],
   "source": [
    "from sklearn.metrics import accuracy_score\n",
    "print(accuracy_score(y_pred,y_test))"
   ]
  },
  {
   "cell_type": "code",
   "execution_count": 114,
   "metadata": {},
   "outputs": [
    {
     "name": "stderr",
     "output_type": "stream",
     "text": [
      "C:\\Users\\Srimathi\\anaconda3\\lib\\site-packages\\sklearn\\base.py:450: UserWarning: X does not have valid feature names, but RandomForestClassifier was fitted with feature names\n",
      "  warnings.warn(\n"
     ]
    },
    {
     "data": {
      "text/plain": [
       "array(['NMIMS'], dtype=object)"
      ]
     },
     "execution_count": 114,
     "metadata": {},
     "output_type": "execute_result"
    }
   ],
   "source": [
    "a=classifier.predict([[93,85,2,0]])\n",
    "a"
   ]
  },
  {
   "cell_type": "code",
   "execution_count": 115,
   "metadata": {
    "scrolled": true
   },
   "outputs": [
    {
     "name": "stdout",
     "output_type": "stream",
     "text": [
      "Enter your 10th mark(percentage):95\n",
      "Enter your 12th mark(percentage): 96\n",
      "Enter the 12th division(1-11):0\n",
      "enter the perfernce for coed(0 or 1):3\n"
     ]
    },
    {
     "name": "stderr",
     "output_type": "stream",
     "text": [
      "C:\\Users\\Srimathi\\anaconda3\\lib\\site-packages\\sklearn\\base.py:450: UserWarning: X does not have valid feature names, but RandomForestClassifier was fitted with feature names\n",
      "  warnings.warn(\n"
     ]
    }
   ],
   "source": [
    "mark10=input(\"Enter your 10th mark(percentage):\")\n",
    "mark12=input(\"Enter your 12th mark(percentage): \")\n",
    "division12=input(\"Enter the 12th division(1-11):\")\n",
    "Coed= input(\"enter the perfernce for coed(0 or 1):\")\n",
    "res=classifier.predict([[mark10,mark12,division12,Coed]])"
   ]
  },
  {
   "cell_type": "code",
   "execution_count": 116,
   "metadata": {},
   "outputs": [
    {
     "data": {
      "text/plain": [
       "array(['Manipal IT'], dtype=object)"
      ]
     },
     "execution_count": 116,
     "metadata": {},
     "output_type": "execute_result"
    }
   ],
   "source": [
    "res"
   ]
  },
  {
   "cell_type": "code",
   "execution_count": 117,
   "metadata": {},
   "outputs": [],
   "source": [
    "import pickle"
   ]
  },
  {
   "cell_type": "code",
   "execution_count": 119,
   "metadata": {},
   "outputs": [
    {
     "name": "stdout",
     "output_type": "stream",
     "text": [
      "['Manipal IT']\n"
     ]
    },
    {
     "name": "stderr",
     "output_type": "stream",
     "text": [
      "C:\\Users\\Srimathi\\anaconda3\\lib\\site-packages\\sklearn\\base.py:450: UserWarning: X does not have valid feature names, but RandomForestClassifier was fitted with feature names\n",
      "  warnings.warn(\n"
     ]
    }
   ],
   "source": [
    "pickle.dump(classifier,open('model1.pkl','wb'))\n",
    "\n",
    "model=pickle.load(open('model1.pkl','rb'))\n",
    "output=classifier.predict([[mark10,mark12,division12,Coed]])\n",
    "\n",
    "print(output)"
   ]
  },
  {
   "cell_type": "code",
   "execution_count": null,
   "metadata": {},
   "outputs": [],
   "source": []
  }
 ],
 "metadata": {
  "kernelspec": {
   "display_name": "Python 3 (ipykernel)",
   "language": "python",
   "name": "python3"
  },
  "language_info": {
   "codemirror_mode": {
    "name": "ipython",
    "version": 3
   },
   "file_extension": ".py",
   "mimetype": "text/x-python",
   "name": "python",
   "nbconvert_exporter": "python",
   "pygments_lexer": "ipython3",
   "version": "3.9.12"
  },
  "vscode": {
   "interpreter": {
    "hash": "11f80fe2c5b7a4745e750cbf723dd61fcabf650df9977e63b6a2d40b10d7348d"
   }
  }
 },
 "nbformat": 4,
 "nbformat_minor": 2
}
